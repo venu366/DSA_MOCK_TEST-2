{
 "cells": [
  {
   "cell_type": "markdown",
   "id": "20c5a1de",
   "metadata": {},
   "source": [
    "1Q) Given a non-negative integer x, return the square root of x rounded down to the nearest integer. The returned integer should be non-negative as well. You must not use any built-in exponent function or operator. \n"
   ]
  },
  {
   "cell_type": "code",
   "execution_count": null,
   "id": "4af58f87",
   "metadata": {},
   "outputs": [],
   "source": [
    "def floorSqrt(x):\n",
    " \n",
    "    # Base cases\n",
    "    if (x == 0 or x == 1):\n",
    "        return x\n",
    " \n",
    "    # Do Binary Search for floor(sqrt(x))\n",
    "    start = 1\n",
    "    end = x//2\n",
    "    while (start <= end):\n",
    "        mid = (start + end) // 2\n",
    " \n",
    "        # If x is a perfect square\n",
    "        if (mid*mid == x):\n",
    "            return mid\n",
    " \n",
    "        # Since we need floor, we update\n",
    "        # answer when mid*mid is smaller\n",
    "        # than x, and move closer to sqrt(x)\n",
    "        if (mid * mid < x):\n",
    "            start = mid + 1\n",
    "            ans = mid\n",
    " \n",
    "        else:\n",
    " \n",
    "            # If mid*mid is greater than x\n",
    "            end = mid-1\n",
    " \n",
    "    return ans"
   ]
  },
  {
   "cell_type": "markdown",
   "id": "d3be1ed4",
   "metadata": {},
   "source": [
    "2Q) You are given two non-empty linked lists representing two non-negative integers. The digits are stored in reverse order, and each of their nodes contains a single digit. Add the two numbers and return the sum as a linked list.\n",
    "\n",
    "You may assume the two numbers do not contain any leading zero, except the number 0 itself.\n"
   ]
  },
  {
   "cell_type": "code",
   "execution_count": null,
   "id": "6b4698bd",
   "metadata": {},
   "outputs": [],
   "source": [
    "class Node:\n",
    "    def __init__(self, data):\n",
    "        self.data = data\n",
    "        self.next = None\n",
    "         \n",
    "class LinkedList:\n",
    "    def __init__(self):\n",
    "        self.head = None\n",
    "    def push(self, new_data):\n",
    "        new_node = Node(new_data)\n",
    "        new_node.next = self.head\n",
    "        self.head = new_node\n",
    "         \n",
    "    def printList(self):\n",
    "        n = self.head\n",
    "        while n:\n",
    "            print(n.data, end=' ')\n",
    "            n = n.next\n",
    "        print()\n",
    " \n",
    " def addTwoLists(first, second):\n",
    "    num1, num2 = 0, 0\n",
    "    while first.head:\n",
    "        num1 = num1*10 + first.head.data\n",
    "        first.head = first.head.next\n",
    "    while second.head:\n",
    "        num2 = num2*10 + second.head.data\n",
    "        second.head = second.head.next\n",
    "    num3 = num1 + num2\n",
    "    temp = LinkedList()\n",
    "    while num3:\n",
    "        last = num3 % 10\n",
    "        temp.push(last)\n",
    "        num3 = num3 // 10\n",
    "    return temp"
   ]
  }
 ],
 "metadata": {
  "kernelspec": {
   "display_name": "Python 3 (ipykernel)",
   "language": "python",
   "name": "python3"
  },
  "language_info": {
   "codemirror_mode": {
    "name": "ipython",
    "version": 3
   },
   "file_extension": ".py",
   "mimetype": "text/x-python",
   "name": "python",
   "nbconvert_exporter": "python",
   "pygments_lexer": "ipython3",
   "version": "3.9.12"
  }
 },
 "nbformat": 4,
 "nbformat_minor": 5
}
